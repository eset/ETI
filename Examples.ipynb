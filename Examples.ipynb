{
 "cells": [
  {
   "cell_type": "code",
   "execution_count": null,
   "metadata": {},
   "outputs": [],
   "source": [
    "# For feedback or questions contact us at: github@eset.com\n",
    "# https://github.com/eset/eti/\n",
    "#\n",
    "# Author: ESET Research\n",
    "#\n",
    "# This code is provided to the community under the two-clause BSD license as\n",
    "# follows:\n",
    "#\n",
    "# Copyright (C) 2025 ESET\n",
    "# All rights reserved.\n",
    "#\n",
    "# Redistribution and use in source and binary forms, with or without\n",
    "# modification, are permitted provided that the following conditions are met:\n",
    "#\n",
    "# 1. Redistributions of source code must retain the above copyright notice, this\n",
    "# list of conditions and the following disclaimer.\n",
    "#\n",
    "# 2. Redistributions in binary form must reproduce the above copyright notice,\n",
    "# this list of conditions and the following disclaimer in the documentation\n",
    "# and/or other materials provided with the distribution.\n",
    "#\n",
    "# THIS SOFTWARE IS PROVIDED BY THE COPYRIGHT HOLDERS AND CONTRIBUTORS \"AS IS\"\n",
    "# AND ANY EXPRESS OR IMPLIED WARRANTIES, INCLUDING, BUT NOT LIMITED TO, THE\n",
    "# IMPLIED WARRANTIES OF MERCHANTABILITY AND FITNESS FOR A PARTICULAR PURPOSE ARE\n",
    "# DISCLAIMED. IN NO EVENT SHALL THE COPYRIGHT HOLDER OR CONTRIBUTORS BE LIABLE\n",
    "# FOR ANY DIRECT, INDIRECT, INCIDENTAL, SPECIAL, EXEMPLARY, OR CONSEQUENTIAL\n",
    "# DAMAGES (INCLUDING, BUT NOT LIMITED TO, PROCUREMENT OF SUBSTITUTE GOODS OR\n",
    "# SERVICES; LOSS OF USE, DATA, OR PROFITS; OR BUSINESS INTERRUPTION) HOWEVER\n",
    "# CAUSED AND ON ANY THEORY OF LIABILITY, WHETHER IN CONTRACT, STRICT LIABILITY,\n",
    "# OR TORT (INCLUDING NEGLIGENCE OR OTHERWISE) ARISING IN ANY WAY OUT OF THE USE\n",
    "# OF THIS SOFTWARE, EVEN IF ADVISED OF THE POSSIBILITY OF SUCH DAMAGE."
   ]
  },
  {
   "cell_type": "markdown",
   "metadata": {},
   "source": [
    "# Initializing your environment\n",
    "\n",
    "## Installation as PyMISP user\n",
    "\n",
    "The quick and dirty way:\n",
    "\n",
    "```bash\n",
    "sudo pip3 install pymisp\n",
    "```\n",
    "\n",
    "The clean approach as user:\n",
    "\n",
    "```bash\n",
    "pip3 install --user pymisp\n",
    "```\n",
    "## Setting up of jupyter\n",
    "\n",
    "**We assume you're in a virtual environment**\n",
    "\n",
    "If you want to follow along this workshop on your computer, this is the way to go:\n",
    "\n",
    "```bash\n",
    "pip3 install jupyter\n",
    "jupyter-notebook\n",
    "```"
   ]
  },
  {
   "cell_type": "markdown",
   "metadata": {},
   "source": [
    "# Using the PyMISP objects\n",
    "\n",
    "This page aims to give recommendations about how to efficiently use the `pymisp` library.\n",
    "\n",
    "It is strongly recommended (read \"don't do anything else, please\") to use the library this way and never, ever modify the python dictionary you get by loading the JSON blob you receive from the server.\n",
    "\n",
    "This library is made in a way to hide as much as the complexity as possible and we're happy to improve it is there is something missing."
   ]
  },
  {
   "cell_type": "markdown",
   "metadata": {},
   "source": [
    "## Interacting with a MISP instance"
   ]
  },
  {
   "cell_type": "code",
   "execution_count": null,
   "metadata": {},
   "outputs": [],
   "source": [
    "import os\n",
    "from pymisp import PyMISP\n",
    "\n",
    "# Use var env to retrieve MISP URL and API key, if not you can provide a default one\n",
    "MISP_URL: str = os.getenv(\"MISP_URL\", \"https://misp.eset.com\")\n",
    "MISP_API_KEY: str = os.getenv(\"MISP_API_KEY\", \"\")\n",
    "\n",
    "misp: PyMISP = PyMISP(MISP_URL, MISP_API_KEY, ssl=True)"
   ]
  },
  {
   "cell_type": "markdown",
   "metadata": {},
   "source": [
    "### Fetching an event\n",
    "Once the event is retrieved, we have several methods available to extract the information we need. For a complete list of these methods, refer to the documentation.\n",
    "In MISP, objects are used to group related attributes in a structured and meaningful way. These objects are based on predefined templates that are bundled within the library.\n",
    "\n",
    "  > NOTE: We recommend setting the parameter `pythonify=True` when interacting with PyMISP objects. This enables more intuitive access to object properties and methods."
   ]
  },
  {
   "cell_type": "markdown",
   "metadata": {},
   "source": [
    "#### Using event ID"
   ]
  },
  {
   "cell_type": "code",
   "execution_count": null,
   "metadata": {},
   "outputs": [],
   "source": [
    "from pymisp import MISPEvent\n",
    "\n",
    "event_id: int = 1523\n",
    "\n",
    "if isinstance(event_id, int):\n",
    "    event: MISPEvent = misp.get_event(event_id, pythonify=True)\n",
    "\n",
    "if isinstance(event, MISPEvent):\n",
    "    # Print the name of the event\n",
    "    print(event.info)"
   ]
  },
  {
   "cell_type": "markdown",
   "metadata": {},
   "source": [
    "#### Using event UUID"
   ]
  },
  {
   "cell_type": "code",
   "execution_count": null,
   "metadata": {},
   "outputs": [],
   "source": [
    "from pymisp import MISPEvent\n",
    "from uuid import UUID\n",
    "\n",
    "event_uuid: UUID = UUID(\"00000000-0000-0000-0000-000000000000\")\n",
    "\n",
    "event: MISPEvent = misp.get_event(event_uuid, pythonify=True)\n",
    "if isinstance(event, MISPEvent):\n",
    "    # Print the name of the event\n",
    "    print(event.info)"
   ]
  },
  {
   "cell_type": "markdown",
   "metadata": {},
   "source": [
    "### Domains and IP addresses\n",
    "This snippet shows how to retrieve domains and IP addresses."
   ]
  },
  {
   "cell_type": "code",
   "execution_count": null,
   "metadata": {},
   "outputs": [],
   "source": [
    "for obj in event.Object:\n",
    "    if obj.name == \"domain-ip\":\n",
    "        for attr in obj.Attribute:\n",
    "            if attr.object_relation == \"ip\":\n",
    "                print(f\"[+] Found IP address: {attr.value}\")\n",
    "            elif attr.object_relation == \"domain\":\n",
    "                print(f\"[+] Found domain: {attr.value}\")\n",
    "            else:\n",
    "                pass"
   ]
  },
  {
   "cell_type": "markdown",
   "metadata": {},
   "source": [
    "## Victims\n",
    "The MISPObject `victim` has the UUID defined here: https://github.com/MISP/misp-objects/blob/a6a5ecc1cbc3cfa0fcf76042510a26fc24b3aae7/objects/victim/definition.json#L139C12-L139C48"
   ]
  },
  {
   "cell_type": "code",
   "execution_count": null,
   "metadata": {},
   "outputs": [],
   "source": [
    "import json\n",
    "\n",
    "victim_object_uuid = \"a8806e40-39ad-435f-be02-ac2a13d6fc7d\"\n",
    "victim_object: dict = misp.get_object_template(victim_object_uuid)\n",
    "print(json.dumps(victim_object, indent=2))"
   ]
  },
  {
   "cell_type": "markdown",
   "metadata": {
    "jp-MarkdownHeadingCollapsed": true
   },
   "source": [
    "### Sectors\n",
    "\n",
    "This is an example of how to retrieve events where the sector targeted contains `transportation`.\n",
    "The full list of the sector can be found via the link below."
   ]
  },
  {
   "cell_type": "code",
   "execution_count": null,
   "metadata": {
    "scrolled": true
   },
   "outputs": [],
   "source": [
    "for attr in victim_object.get(\"ObjectTemplateElement\"):\n",
    "    if attr.get(\"object_relation\") == \"sectors\":\n",
    "        sector_list = attr.get(\"sane_default\")\n",
    "        break\n",
    "print(f\"Supported list of sector:\\n* {\"\\n* \".join(sector_list)}\")"
   ]
  },
  {
   "cell_type": "markdown",
   "metadata": {},
   "source": [
    "Based on the list above, let's search for `transportation` sector.\n",
    "  > WARNING: The search below is limited to the last 30 days, keep in mind that the more precise is your search the faster is the answer"
   ]
  },
  {
   "cell_type": "code",
   "execution_count": null,
   "metadata": {},
   "outputs": [],
   "source": [
    "events: list[MISPEvent] = misp.search(\n",
    "    publish_timestamp='30d'\n",
    "    value=\"transportation\",\n",
    "    object_name=\"victim\",\n",
    "    published = True,\n",
    "    pythonify=True\n",
    ")\n",
    "\n",
    "if isinstance(events, list):\n",
    "    print(f\"[+] Found {len(events)} events published during the last 30 days where the targeted sector contains `transportation`\" )\n",
    "    for event in events:\n",
    "        print(event.info)"
   ]
  },
  {
   "cell_type": "markdown",
   "metadata": {},
   "source": [
    "### Regions\n",
    "\n",
    "The list of regions or locations from the victim targeted is using ISO 3166.\n",
    "  > TODO: check for the broader region list"
   ]
  },
  {
   "cell_type": "code",
   "execution_count": null,
   "metadata": {},
   "outputs": [],
   "source": [
    "events: list[MISPEvent] = misp.search(\n",
    "    publish_timestamp='30d',\n",
    "    value=\"SK\",\n",
    "    object_name=\"victim\",\n",
    "    published = True,\n",
    "    pythonify=True\n",
    ")\n",
    "\n",
    "if isinstance(events, list):\n",
    "    print(f\"[+] Found {len(events)} events published during the last 30 days where the targeted region contains `SK / Slovakia`\" )\n",
    "    for event in events:\n",
    "        print(event.info)"
   ]
  },
  {
   "cell_type": "markdown",
   "metadata": {},
   "source": [
    "## Threat Actors\n",
    "\n",
    "Here are a couple of examples how to search for specific Threat Actors and their characteristics"
   ]
  },
  {
   "cell_type": "markdown",
   "metadata": {},
   "source": [
    "### ESET Threat Actors country of origin\n",
    "\n",
    "Let's retrieve events tagged with threat actors' country of origin is `RU` (Russia).\n",
    "\n",
    "There are a couple of steps to do that:\n",
    "- retrieve ESET Threat Actors MISPGalaxy\n",
    "- iterates through every cluster to retrieve the country of origin\n",
    "- create a list of matching clusters\n",
    "- search events tagged with those clusters"
   ]
  },
  {
   "cell_type": "code",
   "execution_count": null,
   "metadata": {},
   "outputs": [],
   "source": [
    "from pymisp import MISPGalaxy\n",
    "\n",
    "ESET_THREAT_ACTOR_GALAXY_UUID = \"b9e6761a-d501-4cac-94da-8e75e5d26ddb\"\n",
    "\n",
    "# Retrieve ESET Threat Actors galaxy\n",
    "galaxy: MISPGalaxy = misp.get_galaxy(\n",
    "    ESET_THREAT_ACTOR_GALAXY_UUID,\n",
    "    withCluster=True,\n",
    "    pythonify=True\n",
    ")"
   ]
  },
  {
   "cell_type": "code",
   "execution_count": null,
   "metadata": {},
   "outputs": [],
   "source": [
    "# Create a list of Threat Actors where the country of origin matches the value `country_origin`\n",
    "country_origin = \"RU\"\n",
    "ta_list: list = []\n",
    "\n",
    "for cluster in galaxy.clusters:\n",
    "    for k, v in cluster.elements_meta.items():\n",
    "        if k == \"country\":\n",
    "            if len(v):\n",
    "                country = v.pop()\n",
    "                if country == country_origin:\n",
    "                    ta_list.append(cluster)\n",
    "                break\n",
    "            elif len(v) > 1:\n",
    "                print(\"[-] Multiple regions found for the same Threat Actor cluster.\")\n",
    "            else:\n",
    "                print(f\"[+] No region found for cluster {cluster.value}\")\n",
    "print(f\"[+] Found {len(ta_list)} Threat Actors where the country of origin is {country_origin}.\")"
   ]
  },
  {
   "cell_type": "code",
   "execution_count": null,
   "metadata": {},
   "outputs": [],
   "source": [
    "# Search for events for the past 30 days matching our Threat Actors' list\n",
    "events: list[MISPEvent] = misp.search(\n",
    "    publish_timestamp='30d',\n",
    "    event_tags=[i.tag_name for i in ta_list],\n",
    "    published = True,\n",
    "    pythonify=True\n",
    ")\n",
    "\n",
    "print(f\"[+] Found {len(events)} events where the treat actors country of origin is {country_origin} during the last 30 days.\")"
   ]
  },
  {
   "cell_type": "markdown",
   "metadata": {},
   "source": [
    "### ESET Threat Actors alternative names\n",
    "\n",
    "Different companies have different names for the same Threat Actor. When possible, we try to keep an up-to-date list of synonyms such that you can search for alternative names."
   ]
  },
  {
   "cell_type": "code",
   "execution_count": null,
   "metadata": {},
   "outputs": [],
   "source": [
    "from pymisp import MISPGalaxyCluster\n",
    "\n",
    "ESET_THREAT_ACTOR_GALAXY_UUID = \"b9e6761a-d501-4cac-94da-8e75e5d26ddb\"\n",
    "\n",
    "searching_ta = \"APT41\"\n",
    "\n",
    "clusters: list[MISPGalaxyCluster] = misp.search_galaxy_clusters(\n",
    "    ESET_THREAT_ACTOR_GALAXY_UUID,\n",
    "    searchall=searching_ta,\n",
    "    pythonify=True,\n",
    ")\n",
    "\n",
    "if isinstance(events, list):\n",
    "    print(f\"[+] Found {len(clusters)} cluster(s) related to {searching_ta}\")\n",
    "    for cluster in clusters:\n",
    "        cluster_full = misp.get_galaxy_cluster(cluster, pythonify=True)\n",
    "        print(cluster_full)"
   ]
  }
 ],
 "metadata": {
  "kernelspec": {
   "display_name": "Python 3 (ipykernel)",
   "language": "python",
   "name": "python3"
  },
  "language_info": {
   "codemirror_mode": {
    "name": "ipython",
    "version": 3
   },
   "file_extension": ".py",
   "mimetype": "text/x-python",
   "name": "python",
   "nbconvert_exporter": "python",
   "pygments_lexer": "ipython3",
   "version": "3.13.7"
  }
 },
 "nbformat": 4,
 "nbformat_minor": 4
}
